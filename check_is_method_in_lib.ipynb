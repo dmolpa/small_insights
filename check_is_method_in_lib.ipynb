{
 "cells": [
  {
   "cell_type": "code",
   "execution_count": 6,
   "metadata": {},
   "outputs": [
    {
     "name": "stdout",
     "output_type": "stream",
     "text": [
      "Overwriting library.py\n"
     ]
    }
   ],
   "source": [
    "%%writefile library.py\n",
    "\n",
    "class Base:\n",
    "    def fooo(self):\n",
    "        return 'foo'"
   ]
  },
  {
   "cell_type": "code",
   "execution_count": 19,
   "metadata": {},
   "outputs": [
    {
     "name": "stdout",
     "output_type": "stream",
     "text": [
      "Overwriting user.py\n"
     ]
    }
   ],
   "source": [
    "%%writefile user.py\n",
    "from library import Base\n",
    "\n",
    "#check if methods are available from library\n",
    "assert hasattr(Base, 'foo'), 'You broke foo in the library!'\n",
    "\n",
    "class Derived(Base):\n",
    "    def bar(self):\n",
    "        return self.foo()"
   ]
  },
  {
   "cell_type": "code",
   "execution_count": 20,
   "metadata": {},
   "outputs": [
    {
     "name": "stderr",
     "output_type": "stream",
     "text": [
      "Traceback (most recent call last):\n",
      "  File \"user.py\", line 4, in <module>\n",
      "    assert hasattr(Base, 'foo'), 'You broke foo in the library!'\n",
      "AssertionError: You broke foo in the library!\n"
     ]
    }
   ],
   "source": [
    "!python user.py"
   ]
  }
 ],
 "metadata": {
  "kernelspec": {
   "display_name": "Python 3",
   "language": "python",
   "name": "python3"
  },
  "language_info": {
   "codemirror_mode": {
    "name": "ipython",
    "version": 3
   },
   "file_extension": ".py",
   "mimetype": "text/x-python",
   "name": "python",
   "nbconvert_exporter": "python",
   "pygments_lexer": "ipython3",
   "version": "3.6.4"
  }
 },
 "nbformat": 4,
 "nbformat_minor": 2
}
