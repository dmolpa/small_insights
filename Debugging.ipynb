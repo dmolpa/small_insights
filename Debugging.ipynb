{
 "cells": [
  {
   "cell_type": "code",
   "execution_count": null,
   "metadata": {},
   "outputs": [],
   "source": [
    "import pdb"
   ]
  },
  {
   "cell_type": "markdown",
   "metadata": {},
   "source": [
    "- l(ist)\n",
    "- n(ext)\n",
    "- c(ontinue)\n",
    "- s(tep)\n",
    "- r(eturn)\n",
    "- b(reak)\n",
    "- And python"
   ]
  },
  {
   "cell_type": "code",
   "execution_count": 1,
   "metadata": {},
   "outputs": [
    {
     "name": "stdout",
     "output_type": "stream",
     "text": [
      "Overwriting debugg_try.py\n"
     ]
    }
   ],
   "source": [
    "%%writefile debugg_try.py\n",
    "import pdb\n",
    "\n",
    "def bubble_sort(l):\n",
    "    for left in range(len(l)-1,0,-1):\n",
    "        for i in range(left):\n",
    "            if l[i] > l[i+1]:\n",
    "                l[i],l[i+1]=l[i+1],l[i]\n",
    "                \n",
    "l = [1,3,2,3]\n",
    "pdb.set_trace()\n",
    "bubble_sort(l)\n",
    "print(l)"
   ]
  },
  {
   "cell_type": "markdown",
   "metadata": {},
   "source": [
    "# How to:\n",
    "\n",
    "- !python debugg_try.py\n",
    "- '?' to view available commands\n",
    "- 'l' to see code\n",
    "- 's' to go step-by-step\n",
    "- 'n' next step\n",
    "- 'p(variable_name)' to print variable value"
   ]
  }
 ],
 "metadata": {
  "kernelspec": {
   "display_name": "Python 3",
   "language": "python",
   "name": "python3"
  },
  "language_info": {
   "codemirror_mode": {
    "name": "ipython",
    "version": 3
   },
   "file_extension": ".py",
   "mimetype": "text/x-python",
   "name": "python",
   "nbconvert_exporter": "python",
   "pygments_lexer": "ipython3",
   "version": "3.6.4"
  }
 },
 "nbformat": 4,
 "nbformat_minor": 2
}
